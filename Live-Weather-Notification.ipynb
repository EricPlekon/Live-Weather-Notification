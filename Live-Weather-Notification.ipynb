{
 "cells": [
  {
   "cell_type": "code",
   "execution_count": 46,
   "id": "03f787e3",
   "metadata": {},
   "outputs": [],
   "source": [
    "# import packages \n",
    "\n",
    "import requests\n",
    "from bs4 import BeautifulSoup"
   ]
  },
  {
   "cell_type": "code",
   "execution_count": 47,
   "id": "48b0c705",
   "metadata": {},
   "outputs": [],
   "source": [
    "# define a function to get data from url\n",
    "\n",
    "def getdata(url):\n",
    "    r = requests.get(url)\n",
    "    return r.text"
   ]
  },
  {
   "cell_type": "code",
   "execution_count": 48,
   "id": "7a06de4c",
   "metadata": {},
   "outputs": [
    {
     "name": "stderr",
     "output_type": "stream",
     "text": [
      "IOPub data rate exceeded.\n",
      "The notebook server will temporarily stop sending output\n",
      "to the client in order to avoid crashing it.\n",
      "To change this limit, set the config variable\n",
      "`--NotebookApp.iopub_data_rate_limit`.\n",
      "\n",
      "Current values:\n",
      "NotebookApp.iopub_data_rate_limit=1000000.0 (bytes/sec)\n",
      "NotebookApp.rate_limit_window=3.0 (secs)\n",
      "\n"
     ]
    }
   ],
   "source": [
    "# pass the URL in the getdata function\n",
    "\n",
    "htmldata = getdata('https://weather.com/weather/today/l/a496cfcba367ffae60ccfdc94e31bcf3d0a12ac6515336dbd274f381a932abbc')\n",
    "soup = BeautifulSoup(htmldata, 'html.parser')\n",
    "print(soup.prettify())"
   ]
  },
  {
   "cell_type": "code",
   "execution_count": 49,
   "id": "3427de03",
   "metadata": {},
   "outputs": [],
   "source": [
    "current_temp = soup.find('span', {'data-testid': 'TemperatureValue', 'class': 'CurrentConditions--tempValue--MHmYY'})\n",
    "location_elem = soup.find('h1', class_='CurrentConditions--location--1YWj_')\n",
    "time_elem = soup.find('span', class_='CurrentConditions--timestamp--1ybTk')\n",
    "\n",
    "# temperature\n",
    "if current_temp:\n",
    "    temp = current_temp.text.strip()\n",
    "else:\n",
    "    temp = \"N/A\"\n",
    "\n",
    "# location\n",
    "if location_elem:\n",
    "    location = location_elem.text.strip()\n",
    "else:\n",
    "    location = \"Unknown Location\"\n",
    "\n",
    "# time \n",
    "if time_elem:\n",
    "    timestamp = time_elem.text.strip()\n",
    "else:\n",
    "    timestamp = 'No Time'"
   ]
  },
  {
   "cell_type": "code",
   "execution_count": 50,
   "id": "1a14e687",
   "metadata": {},
   "outputs": [
    {
     "name": "stdout",
     "output_type": "stream",
     "text": [
      "Current temperature in New York City, NY: 53°\n",
      "Time: As of 9:59 am EDT\n"
     ]
    }
   ],
   "source": [
    "print(f\"Current temperature in {location}: {temp}\")\n",
    "print(f\"Time: {timestamp}\")"
   ]
  },
  {
   "cell_type": "code",
   "execution_count": null,
   "id": "65f866e6",
   "metadata": {},
   "outputs": [],
   "source": []
  }
 ],
 "metadata": {
  "kernelspec": {
   "display_name": "Python 3 (ipykernel)",
   "language": "python",
   "name": "python3"
  },
  "language_info": {
   "codemirror_mode": {
    "name": "ipython",
    "version": 3
   },
   "file_extension": ".py",
   "mimetype": "text/x-python",
   "name": "python",
   "nbconvert_exporter": "python",
   "pygments_lexer": "ipython3",
   "version": "3.11.5"
  }
 },
 "nbformat": 4,
 "nbformat_minor": 5
}
